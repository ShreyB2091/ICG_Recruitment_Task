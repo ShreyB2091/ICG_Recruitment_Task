{
 "cells": [
  {
   "cell_type": "code",
   "execution_count": 1,
   "id": "c7b2ffb8",
   "metadata": {
    "_cell_guid": "b1076dfc-b9ad-4769-8c92-a6c4dae69d19",
    "_uuid": "8f2839f25d086af736a60e9eeb907d3b93b6e0e5",
    "execution": {
     "iopub.execute_input": "2022-07-23T17:57:43.226234Z",
     "iopub.status.busy": "2022-07-23T17:57:43.225414Z",
     "iopub.status.idle": "2022-07-23T17:57:43.240166Z",
     "shell.execute_reply": "2022-07-23T17:57:43.239324Z"
    },
    "papermill": {
     "duration": 0.032128,
     "end_time": "2022-07-23T17:57:43.242402",
     "exception": false,
     "start_time": "2022-07-23T17:57:43.210274",
     "status": "completed"
    },
    "tags": []
   },
   "outputs": [
    {
     "name": "stdout",
     "output_type": "stream",
     "text": [
      "/kaggle/input/spaceship-titanic/sample_submission.csv\n",
      "/kaggle/input/spaceship-titanic/train.csv\n",
      "/kaggle/input/spaceship-titanic/test.csv\n"
     ]
    }
   ],
   "source": [
    "# This Python 3 environment comes with many helpful analytics libraries installed\n",
    "# It is defined by the kaggle/python Docker image: https://github.com/kaggle/docker-python\n",
    "# For example, here's several helpful packages to load\n",
    "\n",
    "import numpy as np # linear algebra\n",
    "import pandas as pd # data processing, CSV file I/O (e.g. pd.read_csv)\n",
    "\n",
    "# Input data files are available in the read-only \"../input/\" directory\n",
    "# For example, running this (by clicking run or pressing Shift+Enter) will list all files under the input directory\n",
    "\n",
    "import os\n",
    "for dirname, _, filenames in os.walk('/kaggle/input'):\n",
    "    for filename in filenames:\n",
    "        print(os.path.join(dirname, filename))\n",
    "\n",
    "# You can write up to 20GB to the current directory (/kaggle/working/) that gets preserved as output when you create a version using \"Save & Run All\" \n",
    "# You can also write temporary files to /kaggle/temp/, but they won't be saved outside of the current session"
   ]
  },
  {
   "cell_type": "code",
   "execution_count": 2,
   "id": "eb053931",
   "metadata": {
    "execution": {
     "iopub.execute_input": "2022-07-23T17:57:43.267895Z",
     "iopub.status.busy": "2022-07-23T17:57:43.267284Z",
     "iopub.status.idle": "2022-07-23T17:57:44.303711Z",
     "shell.execute_reply": "2022-07-23T17:57:44.302770Z"
    },
    "papermill": {
     "duration": 1.05198,
     "end_time": "2022-07-23T17:57:44.306395",
     "exception": false,
     "start_time": "2022-07-23T17:57:43.254415",
     "status": "completed"
    },
    "tags": []
   },
   "outputs": [],
   "source": [
    "import matplotlib.pyplot as plt\n",
    "%matplotlib inline\n",
    "import seaborn as sns"
   ]
  },
  {
   "cell_type": "markdown",
   "id": "6f386024",
   "metadata": {
    "papermill": {
     "duration": 0.011808,
     "end_time": "2022-07-23T17:57:44.330431",
     "exception": false,
     "start_time": "2022-07-23T17:57:44.318623",
     "status": "completed"
    },
    "tags": []
   },
   "source": [
    "# Preparing data files"
   ]
  },
  {
   "cell_type": "code",
   "execution_count": 3,
   "id": "dd76fae5",
   "metadata": {
    "execution": {
     "iopub.execute_input": "2022-07-23T17:57:44.356652Z",
     "iopub.status.busy": "2022-07-23T17:57:44.355926Z",
     "iopub.status.idle": "2022-07-23T17:57:44.433722Z",
     "shell.execute_reply": "2022-07-23T17:57:44.432567Z"
    },
    "papermill": {
     "duration": 0.093832,
     "end_time": "2022-07-23T17:57:44.436336",
     "exception": false,
     "start_time": "2022-07-23T17:57:44.342504",
     "status": "completed"
    },
    "tags": []
   },
   "outputs": [
    {
     "data": {
      "text/html": [
       "<div>\n",
       "<style scoped>\n",
       "    .dataframe tbody tr th:only-of-type {\n",
       "        vertical-align: middle;\n",
       "    }\n",
       "\n",
       "    .dataframe tbody tr th {\n",
       "        vertical-align: top;\n",
       "    }\n",
       "\n",
       "    .dataframe thead th {\n",
       "        text-align: right;\n",
       "    }\n",
       "</style>\n",
       "<table border=\"1\" class=\"dataframe\">\n",
       "  <thead>\n",
       "    <tr style=\"text-align: right;\">\n",
       "      <th></th>\n",
       "      <th>PassengerId</th>\n",
       "      <th>HomePlanet</th>\n",
       "      <th>CryoSleep</th>\n",
       "      <th>Cabin</th>\n",
       "      <th>Destination</th>\n",
       "      <th>Age</th>\n",
       "      <th>VIP</th>\n",
       "      <th>RoomService</th>\n",
       "      <th>FoodCourt</th>\n",
       "      <th>ShoppingMall</th>\n",
       "      <th>Spa</th>\n",
       "      <th>VRDeck</th>\n",
       "      <th>Name</th>\n",
       "      <th>Transported</th>\n",
       "    </tr>\n",
       "  </thead>\n",
       "  <tbody>\n",
       "    <tr>\n",
       "      <th>0</th>\n",
       "      <td>0001_01</td>\n",
       "      <td>Europa</td>\n",
       "      <td>False</td>\n",
       "      <td>B/0/P</td>\n",
       "      <td>TRAPPIST-1e</td>\n",
       "      <td>39.0</td>\n",
       "      <td>False</td>\n",
       "      <td>0.0</td>\n",
       "      <td>0.0</td>\n",
       "      <td>0.0</td>\n",
       "      <td>0.0</td>\n",
       "      <td>0.0</td>\n",
       "      <td>Maham Ofracculy</td>\n",
       "      <td>False</td>\n",
       "    </tr>\n",
       "    <tr>\n",
       "      <th>1</th>\n",
       "      <td>0002_01</td>\n",
       "      <td>Earth</td>\n",
       "      <td>False</td>\n",
       "      <td>F/0/S</td>\n",
       "      <td>TRAPPIST-1e</td>\n",
       "      <td>24.0</td>\n",
       "      <td>False</td>\n",
       "      <td>109.0</td>\n",
       "      <td>9.0</td>\n",
       "      <td>25.0</td>\n",
       "      <td>549.0</td>\n",
       "      <td>44.0</td>\n",
       "      <td>Juanna Vines</td>\n",
       "      <td>True</td>\n",
       "    </tr>\n",
       "    <tr>\n",
       "      <th>2</th>\n",
       "      <td>0003_01</td>\n",
       "      <td>Europa</td>\n",
       "      <td>False</td>\n",
       "      <td>A/0/S</td>\n",
       "      <td>TRAPPIST-1e</td>\n",
       "      <td>58.0</td>\n",
       "      <td>True</td>\n",
       "      <td>43.0</td>\n",
       "      <td>3576.0</td>\n",
       "      <td>0.0</td>\n",
       "      <td>6715.0</td>\n",
       "      <td>49.0</td>\n",
       "      <td>Altark Susent</td>\n",
       "      <td>False</td>\n",
       "    </tr>\n",
       "    <tr>\n",
       "      <th>3</th>\n",
       "      <td>0003_02</td>\n",
       "      <td>Europa</td>\n",
       "      <td>False</td>\n",
       "      <td>A/0/S</td>\n",
       "      <td>TRAPPIST-1e</td>\n",
       "      <td>33.0</td>\n",
       "      <td>False</td>\n",
       "      <td>0.0</td>\n",
       "      <td>1283.0</td>\n",
       "      <td>371.0</td>\n",
       "      <td>3329.0</td>\n",
       "      <td>193.0</td>\n",
       "      <td>Solam Susent</td>\n",
       "      <td>False</td>\n",
       "    </tr>\n",
       "    <tr>\n",
       "      <th>4</th>\n",
       "      <td>0004_01</td>\n",
       "      <td>Earth</td>\n",
       "      <td>False</td>\n",
       "      <td>F/1/S</td>\n",
       "      <td>TRAPPIST-1e</td>\n",
       "      <td>16.0</td>\n",
       "      <td>False</td>\n",
       "      <td>303.0</td>\n",
       "      <td>70.0</td>\n",
       "      <td>151.0</td>\n",
       "      <td>565.0</td>\n",
       "      <td>2.0</td>\n",
       "      <td>Willy Santantines</td>\n",
       "      <td>True</td>\n",
       "    </tr>\n",
       "  </tbody>\n",
       "</table>\n",
       "</div>"
      ],
      "text/plain": [
       "  PassengerId HomePlanet CryoSleep  Cabin  Destination   Age    VIP  \\\n",
       "0     0001_01     Europa     False  B/0/P  TRAPPIST-1e  39.0  False   \n",
       "1     0002_01      Earth     False  F/0/S  TRAPPIST-1e  24.0  False   \n",
       "2     0003_01     Europa     False  A/0/S  TRAPPIST-1e  58.0   True   \n",
       "3     0003_02     Europa     False  A/0/S  TRAPPIST-1e  33.0  False   \n",
       "4     0004_01      Earth     False  F/1/S  TRAPPIST-1e  16.0  False   \n",
       "\n",
       "   RoomService  FoodCourt  ShoppingMall     Spa  VRDeck               Name  \\\n",
       "0          0.0        0.0           0.0     0.0     0.0    Maham Ofracculy   \n",
       "1        109.0        9.0          25.0   549.0    44.0       Juanna Vines   \n",
       "2         43.0     3576.0           0.0  6715.0    49.0      Altark Susent   \n",
       "3          0.0     1283.0         371.0  3329.0   193.0       Solam Susent   \n",
       "4        303.0       70.0         151.0   565.0     2.0  Willy Santantines   \n",
       "\n",
       "   Transported  \n",
       "0        False  \n",
       "1         True  \n",
       "2        False  \n",
       "3        False  \n",
       "4         True  "
      ]
     },
     "execution_count": 3,
     "metadata": {},
     "output_type": "execute_result"
    }
   ],
   "source": [
    "train_data = pd.read_csv('../input/spaceship-titanic/train.csv')\n",
    "train_data.head()"
   ]
  },
  {
   "cell_type": "code",
   "execution_count": 4,
   "id": "6c26cb49",
   "metadata": {
    "execution": {
     "iopub.execute_input": "2022-07-23T17:57:44.463326Z",
     "iopub.status.busy": "2022-07-23T17:57:44.462296Z",
     "iopub.status.idle": "2022-07-23T17:57:44.506127Z",
     "shell.execute_reply": "2022-07-23T17:57:44.504948Z"
    },
    "papermill": {
     "duration": 0.059969,
     "end_time": "2022-07-23T17:57:44.508502",
     "exception": false,
     "start_time": "2022-07-23T17:57:44.448533",
     "status": "completed"
    },
    "tags": []
   },
   "outputs": [
    {
     "data": {
      "text/html": [
       "<div>\n",
       "<style scoped>\n",
       "    .dataframe tbody tr th:only-of-type {\n",
       "        vertical-align: middle;\n",
       "    }\n",
       "\n",
       "    .dataframe tbody tr th {\n",
       "        vertical-align: top;\n",
       "    }\n",
       "\n",
       "    .dataframe thead th {\n",
       "        text-align: right;\n",
       "    }\n",
       "</style>\n",
       "<table border=\"1\" class=\"dataframe\">\n",
       "  <thead>\n",
       "    <tr style=\"text-align: right;\">\n",
       "      <th></th>\n",
       "      <th>PassengerId</th>\n",
       "      <th>HomePlanet</th>\n",
       "      <th>CryoSleep</th>\n",
       "      <th>Cabin</th>\n",
       "      <th>Destination</th>\n",
       "      <th>Age</th>\n",
       "      <th>VIP</th>\n",
       "      <th>RoomService</th>\n",
       "      <th>FoodCourt</th>\n",
       "      <th>ShoppingMall</th>\n",
       "      <th>Spa</th>\n",
       "      <th>VRDeck</th>\n",
       "      <th>Name</th>\n",
       "    </tr>\n",
       "  </thead>\n",
       "  <tbody>\n",
       "    <tr>\n",
       "      <th>0</th>\n",
       "      <td>0013_01</td>\n",
       "      <td>Earth</td>\n",
       "      <td>True</td>\n",
       "      <td>G/3/S</td>\n",
       "      <td>TRAPPIST-1e</td>\n",
       "      <td>27.0</td>\n",
       "      <td>False</td>\n",
       "      <td>0.0</td>\n",
       "      <td>0.0</td>\n",
       "      <td>0.0</td>\n",
       "      <td>0.0</td>\n",
       "      <td>0.0</td>\n",
       "      <td>Nelly Carsoning</td>\n",
       "    </tr>\n",
       "    <tr>\n",
       "      <th>1</th>\n",
       "      <td>0018_01</td>\n",
       "      <td>Earth</td>\n",
       "      <td>False</td>\n",
       "      <td>F/4/S</td>\n",
       "      <td>TRAPPIST-1e</td>\n",
       "      <td>19.0</td>\n",
       "      <td>False</td>\n",
       "      <td>0.0</td>\n",
       "      <td>9.0</td>\n",
       "      <td>0.0</td>\n",
       "      <td>2823.0</td>\n",
       "      <td>0.0</td>\n",
       "      <td>Lerome Peckers</td>\n",
       "    </tr>\n",
       "    <tr>\n",
       "      <th>2</th>\n",
       "      <td>0019_01</td>\n",
       "      <td>Europa</td>\n",
       "      <td>True</td>\n",
       "      <td>C/0/S</td>\n",
       "      <td>55 Cancri e</td>\n",
       "      <td>31.0</td>\n",
       "      <td>False</td>\n",
       "      <td>0.0</td>\n",
       "      <td>0.0</td>\n",
       "      <td>0.0</td>\n",
       "      <td>0.0</td>\n",
       "      <td>0.0</td>\n",
       "      <td>Sabih Unhearfus</td>\n",
       "    </tr>\n",
       "    <tr>\n",
       "      <th>3</th>\n",
       "      <td>0021_01</td>\n",
       "      <td>Europa</td>\n",
       "      <td>False</td>\n",
       "      <td>C/1/S</td>\n",
       "      <td>TRAPPIST-1e</td>\n",
       "      <td>38.0</td>\n",
       "      <td>False</td>\n",
       "      <td>0.0</td>\n",
       "      <td>6652.0</td>\n",
       "      <td>0.0</td>\n",
       "      <td>181.0</td>\n",
       "      <td>585.0</td>\n",
       "      <td>Meratz Caltilter</td>\n",
       "    </tr>\n",
       "    <tr>\n",
       "      <th>4</th>\n",
       "      <td>0023_01</td>\n",
       "      <td>Earth</td>\n",
       "      <td>False</td>\n",
       "      <td>F/5/S</td>\n",
       "      <td>TRAPPIST-1e</td>\n",
       "      <td>20.0</td>\n",
       "      <td>False</td>\n",
       "      <td>10.0</td>\n",
       "      <td>0.0</td>\n",
       "      <td>635.0</td>\n",
       "      <td>0.0</td>\n",
       "      <td>0.0</td>\n",
       "      <td>Brence Harperez</td>\n",
       "    </tr>\n",
       "  </tbody>\n",
       "</table>\n",
       "</div>"
      ],
      "text/plain": [
       "  PassengerId HomePlanet CryoSleep  Cabin  Destination   Age    VIP  \\\n",
       "0     0013_01      Earth      True  G/3/S  TRAPPIST-1e  27.0  False   \n",
       "1     0018_01      Earth     False  F/4/S  TRAPPIST-1e  19.0  False   \n",
       "2     0019_01     Europa      True  C/0/S  55 Cancri e  31.0  False   \n",
       "3     0021_01     Europa     False  C/1/S  TRAPPIST-1e  38.0  False   \n",
       "4     0023_01      Earth     False  F/5/S  TRAPPIST-1e  20.0  False   \n",
       "\n",
       "   RoomService  FoodCourt  ShoppingMall     Spa  VRDeck              Name  \n",
       "0          0.0        0.0           0.0     0.0     0.0   Nelly Carsoning  \n",
       "1          0.0        9.0           0.0  2823.0     0.0    Lerome Peckers  \n",
       "2          0.0        0.0           0.0     0.0     0.0   Sabih Unhearfus  \n",
       "3          0.0     6652.0           0.0   181.0   585.0  Meratz Caltilter  \n",
       "4         10.0        0.0         635.0     0.0     0.0   Brence Harperez  "
      ]
     },
     "execution_count": 4,
     "metadata": {},
     "output_type": "execute_result"
    }
   ],
   "source": [
    "test_data = pd.read_csv('../input/spaceship-titanic/test.csv')\n",
    "test_data.head()"
   ]
  },
  {
   "cell_type": "markdown",
   "id": "629c1065",
   "metadata": {
    "papermill": {
     "duration": 0.015679,
     "end_time": "2022-07-23T17:57:44.536413",
     "exception": false,
     "start_time": "2022-07-23T17:57:44.520734",
     "status": "completed"
    },
    "tags": []
   },
   "source": [
    "# Categorical Data Division\n",
    "\n",
    "<span style=\"font-size:16px; font-family:verdana;\">\n",
    "    <strong>The list num_columns contains the classes with continuous data.  \n",
    "        <br>The list cat_columns contains the classes with data divided into categories.</strong>\n",
    "</span>"
   ]
  },
  {
   "cell_type": "code",
   "execution_count": 5,
   "id": "b04aba5e",
   "metadata": {
    "execution": {
     "iopub.execute_input": "2022-07-23T17:57:44.567754Z",
     "iopub.status.busy": "2022-07-23T17:57:44.565969Z",
     "iopub.status.idle": "2022-07-23T17:57:44.595845Z",
     "shell.execute_reply": "2022-07-23T17:57:44.594671Z"
    },
    "papermill": {
     "duration": 0.048321,
     "end_time": "2022-07-23T17:57:44.599028",
     "exception": false,
     "start_time": "2022-07-23T17:57:44.550707",
     "status": "completed"
    },
    "tags": []
   },
   "outputs": [
    {
     "data": {
      "text/plain": [
       "PassengerId    8693\n",
       "HomePlanet        3\n",
       "CryoSleep         2\n",
       "Cabin          6560\n",
       "Destination       3\n",
       "VIP               2\n",
       "Name           8473\n",
       "dtype: int64"
      ]
     },
     "execution_count": 5,
     "metadata": {},
     "output_type": "execute_result"
    }
   ],
   "source": [
    "num_columns = ['Age', 'RoomService', 'FoodCourt', 'ShoppingMall', 'Spa', 'VRDeck']\n",
    "cat_columns = ['PassengerId', 'HomePlanet', 'CryoSleep', 'Cabin', 'Destination', 'VIP', 'Name']\n",
    "target = 'Transported'\n",
    "\n",
    "cat_unique = []\n",
    "for cat in cat_columns:\n",
    "    cat_unique.append(train_data[cat].nunique())\n",
    "cat_unique = pd.Series(cat_unique, index = cat_columns)\n",
    "cat_unique"
   ]
  },
  {
   "cell_type": "code",
   "execution_count": 6,
   "id": "69b7f65c",
   "metadata": {
    "execution": {
     "iopub.execute_input": "2022-07-23T17:57:44.630165Z",
     "iopub.status.busy": "2022-07-23T17:57:44.629258Z",
     "iopub.status.idle": "2022-07-23T17:57:44.691557Z",
     "shell.execute_reply": "2022-07-23T17:57:44.690458Z"
    },
    "papermill": {
     "duration": 0.08193,
     "end_time": "2022-07-23T17:57:44.693846",
     "exception": false,
     "start_time": "2022-07-23T17:57:44.611916",
     "status": "completed"
    },
    "tags": []
   },
   "outputs": [
    {
     "data": {
      "text/html": [
       "<div>\n",
       "<style scoped>\n",
       "    .dataframe tbody tr th:only-of-type {\n",
       "        vertical-align: middle;\n",
       "    }\n",
       "\n",
       "    .dataframe tbody tr th {\n",
       "        vertical-align: top;\n",
       "    }\n",
       "\n",
       "    .dataframe thead th {\n",
       "        text-align: right;\n",
       "    }\n",
       "</style>\n",
       "<table border=\"1\" class=\"dataframe\">\n",
       "  <thead>\n",
       "    <tr style=\"text-align: right;\">\n",
       "      <th></th>\n",
       "      <th>Transported</th>\n",
       "      <th>False</th>\n",
       "      <th>True</th>\n",
       "    </tr>\n",
       "  </thead>\n",
       "  <tbody>\n",
       "    <tr>\n",
       "      <th rowspan=\"8\" valign=\"top\">Age</th>\n",
       "      <th>count</th>\n",
       "      <td>4226.000000</td>\n",
       "      <td>4288.000000</td>\n",
       "    </tr>\n",
       "    <tr>\n",
       "      <th>mean</th>\n",
       "      <td>29.922858</td>\n",
       "      <td>27.748834</td>\n",
       "    </tr>\n",
       "    <tr>\n",
       "      <th>std</th>\n",
       "      <td>13.699262</td>\n",
       "      <td>15.151705</td>\n",
       "    </tr>\n",
       "    <tr>\n",
       "      <th>min</th>\n",
       "      <td>0.000000</td>\n",
       "      <td>0.000000</td>\n",
       "    </tr>\n",
       "    <tr>\n",
       "      <th>25%</th>\n",
       "      <td>21.000000</td>\n",
       "      <td>18.000000</td>\n",
       "    </tr>\n",
       "    <tr>\n",
       "      <th>50%</th>\n",
       "      <td>27.000000</td>\n",
       "      <td>26.000000</td>\n",
       "    </tr>\n",
       "    <tr>\n",
       "      <th>75%</th>\n",
       "      <td>38.000000</td>\n",
       "      <td>37.000000</td>\n",
       "    </tr>\n",
       "    <tr>\n",
       "      <th>max</th>\n",
       "      <td>79.000000</td>\n",
       "      <td>78.000000</td>\n",
       "    </tr>\n",
       "    <tr>\n",
       "      <th rowspan=\"8\" valign=\"top\">RoomService</th>\n",
       "      <th>count</th>\n",
       "      <td>4217.000000</td>\n",
       "      <td>4295.000000</td>\n",
       "    </tr>\n",
       "    <tr>\n",
       "      <th>mean</th>\n",
       "      <td>389.266066</td>\n",
       "      <td>63.098021</td>\n",
       "    </tr>\n",
       "    <tr>\n",
       "      <th>std</th>\n",
       "      <td>875.638123</td>\n",
       "      <td>274.812497</td>\n",
       "    </tr>\n",
       "    <tr>\n",
       "      <th>min</th>\n",
       "      <td>0.000000</td>\n",
       "      <td>0.000000</td>\n",
       "    </tr>\n",
       "    <tr>\n",
       "      <th>25%</th>\n",
       "      <td>0.000000</td>\n",
       "      <td>0.000000</td>\n",
       "    </tr>\n",
       "    <tr>\n",
       "      <th>50%</th>\n",
       "      <td>1.000000</td>\n",
       "      <td>0.000000</td>\n",
       "    </tr>\n",
       "    <tr>\n",
       "      <th>75%</th>\n",
       "      <td>473.000000</td>\n",
       "      <td>0.000000</td>\n",
       "    </tr>\n",
       "    <tr>\n",
       "      <th>max</th>\n",
       "      <td>14327.000000</td>\n",
       "      <td>3992.000000</td>\n",
       "    </tr>\n",
       "    <tr>\n",
       "      <th rowspan=\"8\" valign=\"top\">FoodCourt</th>\n",
       "      <th>count</th>\n",
       "      <td>4231.000000</td>\n",
       "      <td>4279.000000</td>\n",
       "    </tr>\n",
       "    <tr>\n",
       "      <th>mean</th>\n",
       "      <td>382.615930</td>\n",
       "      <td>532.691984</td>\n",
       "    </tr>\n",
       "    <tr>\n",
       "      <th>std</th>\n",
       "      <td>1200.115601</td>\n",
       "      <td>1931.306995</td>\n",
       "    </tr>\n",
       "    <tr>\n",
       "      <th>min</th>\n",
       "      <td>0.000000</td>\n",
       "      <td>0.000000</td>\n",
       "    </tr>\n",
       "    <tr>\n",
       "      <th>25%</th>\n",
       "      <td>0.000000</td>\n",
       "      <td>0.000000</td>\n",
       "    </tr>\n",
       "    <tr>\n",
       "      <th>50%</th>\n",
       "      <td>0.000000</td>\n",
       "      <td>0.000000</td>\n",
       "    </tr>\n",
       "    <tr>\n",
       "      <th>75%</th>\n",
       "      <td>179.000000</td>\n",
       "      <td>0.000000</td>\n",
       "    </tr>\n",
       "    <tr>\n",
       "      <th>max</th>\n",
       "      <td>16856.000000</td>\n",
       "      <td>29813.000000</td>\n",
       "    </tr>\n",
       "    <tr>\n",
       "      <th rowspan=\"8\" valign=\"top\">ShoppingMall</th>\n",
       "      <th>count</th>\n",
       "      <td>4221.000000</td>\n",
       "      <td>4264.000000</td>\n",
       "    </tr>\n",
       "    <tr>\n",
       "      <th>mean</th>\n",
       "      <td>167.566217</td>\n",
       "      <td>179.829972</td>\n",
       "    </tr>\n",
       "    <tr>\n",
       "      <th>std</th>\n",
       "      <td>456.528126</td>\n",
       "      <td>722.026714</td>\n",
       "    </tr>\n",
       "    <tr>\n",
       "      <th>min</th>\n",
       "      <td>0.000000</td>\n",
       "      <td>0.000000</td>\n",
       "    </tr>\n",
       "    <tr>\n",
       "      <th>25%</th>\n",
       "      <td>0.000000</td>\n",
       "      <td>0.000000</td>\n",
       "    </tr>\n",
       "    <tr>\n",
       "      <th>50%</th>\n",
       "      <td>0.000000</td>\n",
       "      <td>0.000000</td>\n",
       "    </tr>\n",
       "    <tr>\n",
       "      <th>75%</th>\n",
       "      <td>95.000000</td>\n",
       "      <td>0.000000</td>\n",
       "    </tr>\n",
       "    <tr>\n",
       "      <th>max</th>\n",
       "      <td>10705.000000</td>\n",
       "      <td>23492.000000</td>\n",
       "    </tr>\n",
       "    <tr>\n",
       "      <th rowspan=\"8\" valign=\"top\">Spa</th>\n",
       "      <th>count</th>\n",
       "      <td>4223.000000</td>\n",
       "      <td>4287.000000</td>\n",
       "    </tr>\n",
       "    <tr>\n",
       "      <th>mean</th>\n",
       "      <td>564.382666</td>\n",
       "      <td>61.675531</td>\n",
       "    </tr>\n",
       "    <tr>\n",
       "      <th>std</th>\n",
       "      <td>1551.356047</td>\n",
       "      <td>262.682871</td>\n",
       "    </tr>\n",
       "    <tr>\n",
       "      <th>min</th>\n",
       "      <td>0.000000</td>\n",
       "      <td>0.000000</td>\n",
       "    </tr>\n",
       "    <tr>\n",
       "      <th>25%</th>\n",
       "      <td>0.000000</td>\n",
       "      <td>0.000000</td>\n",
       "    </tr>\n",
       "    <tr>\n",
       "      <th>50%</th>\n",
       "      <td>4.000000</td>\n",
       "      <td>0.000000</td>\n",
       "    </tr>\n",
       "    <tr>\n",
       "      <th>75%</th>\n",
       "      <td>453.500000</td>\n",
       "      <td>0.000000</td>\n",
       "    </tr>\n",
       "    <tr>\n",
       "      <th>max</th>\n",
       "      <td>22408.000000</td>\n",
       "      <td>4103.000000</td>\n",
       "    </tr>\n",
       "    <tr>\n",
       "      <th rowspan=\"8\" valign=\"top\">VRDeck</th>\n",
       "      <th>count</th>\n",
       "      <td>4225.000000</td>\n",
       "      <td>4280.000000</td>\n",
       "    </tr>\n",
       "    <tr>\n",
       "      <th>mean</th>\n",
       "      <td>543.629822</td>\n",
       "      <td>69.148131</td>\n",
       "    </tr>\n",
       "    <tr>\n",
       "      <th>std</th>\n",
       "      <td>1563.088368</td>\n",
       "      <td>291.658171</td>\n",
       "    </tr>\n",
       "    <tr>\n",
       "      <th>min</th>\n",
       "      <td>0.000000</td>\n",
       "      <td>0.000000</td>\n",
       "    </tr>\n",
       "    <tr>\n",
       "      <th>25%</th>\n",
       "      <td>0.000000</td>\n",
       "      <td>0.000000</td>\n",
       "    </tr>\n",
       "    <tr>\n",
       "      <th>50%</th>\n",
       "      <td>1.000000</td>\n",
       "      <td>0.000000</td>\n",
       "    </tr>\n",
       "    <tr>\n",
       "      <th>75%</th>\n",
       "      <td>388.000000</td>\n",
       "      <td>0.000000</td>\n",
       "    </tr>\n",
       "    <tr>\n",
       "      <th>max</th>\n",
       "      <td>24133.000000</td>\n",
       "      <td>5063.000000</td>\n",
       "    </tr>\n",
       "  </tbody>\n",
       "</table>\n",
       "</div>"
      ],
      "text/plain": [
       "Transported                False          True\n",
       "Age          count   4226.000000   4288.000000\n",
       "             mean      29.922858     27.748834\n",
       "             std       13.699262     15.151705\n",
       "             min        0.000000      0.000000\n",
       "             25%       21.000000     18.000000\n",
       "             50%       27.000000     26.000000\n",
       "             75%       38.000000     37.000000\n",
       "             max       79.000000     78.000000\n",
       "RoomService  count   4217.000000   4295.000000\n",
       "             mean     389.266066     63.098021\n",
       "             std      875.638123    274.812497\n",
       "             min        0.000000      0.000000\n",
       "             25%        0.000000      0.000000\n",
       "             50%        1.000000      0.000000\n",
       "             75%      473.000000      0.000000\n",
       "             max    14327.000000   3992.000000\n",
       "FoodCourt    count   4231.000000   4279.000000\n",
       "             mean     382.615930    532.691984\n",
       "             std     1200.115601   1931.306995\n",
       "             min        0.000000      0.000000\n",
       "             25%        0.000000      0.000000\n",
       "             50%        0.000000      0.000000\n",
       "             75%      179.000000      0.000000\n",
       "             max    16856.000000  29813.000000\n",
       "ShoppingMall count   4221.000000   4264.000000\n",
       "             mean     167.566217    179.829972\n",
       "             std      456.528126    722.026714\n",
       "             min        0.000000      0.000000\n",
       "             25%        0.000000      0.000000\n",
       "             50%        0.000000      0.000000\n",
       "             75%       95.000000      0.000000\n",
       "             max    10705.000000  23492.000000\n",
       "Spa          count   4223.000000   4287.000000\n",
       "             mean     564.382666     61.675531\n",
       "             std     1551.356047    262.682871\n",
       "             min        0.000000      0.000000\n",
       "             25%        0.000000      0.000000\n",
       "             50%        4.000000      0.000000\n",
       "             75%      453.500000      0.000000\n",
       "             max    22408.000000   4103.000000\n",
       "VRDeck       count   4225.000000   4280.000000\n",
       "             mean     543.629822     69.148131\n",
       "             std     1563.088368    291.658171\n",
       "             min        0.000000      0.000000\n",
       "             25%        0.000000      0.000000\n",
       "             50%        1.000000      0.000000\n",
       "             75%      388.000000      0.000000\n",
       "             max    24133.000000   5063.000000"
      ]
     },
     "execution_count": 6,
     "metadata": {},
     "output_type": "execute_result"
    }
   ],
   "source": [
    "train_data.groupby('Transported').describe().T"
   ]
  },
  {
   "cell_type": "markdown",
   "id": "09444857",
   "metadata": {
    "papermill": {
     "duration": 0.01246,
     "end_time": "2022-07-23T17:57:44.719077",
     "exception": false,
     "start_time": "2022-07-23T17:57:44.706617",
     "status": "completed"
    },
    "tags": []
   },
   "source": [
    "<span style=\"font-size:16px; font-family:verdana;\">\n",
    "    <strong>Correlation between different categorical columns</strong>\n",
    "</span>"
   ]
  },
  {
   "cell_type": "code",
   "execution_count": 7,
   "id": "9aeaf20a",
   "metadata": {
    "execution": {
     "iopub.execute_input": "2022-07-23T17:57:44.746666Z",
     "iopub.status.busy": "2022-07-23T17:57:44.745739Z",
     "iopub.status.idle": "2022-07-23T17:57:45.244133Z",
     "shell.execute_reply": "2022-07-23T17:57:45.242943Z"
    },
    "papermill": {
     "duration": 0.514763,
     "end_time": "2022-07-23T17:57:45.246500",
     "exception": false,
     "start_time": "2022-07-23T17:57:44.731737",
     "status": "completed"
    },
    "tags": []
   },
   "outputs": [
    {
     "data": {
      "text/plain": [
       "<AxesSubplot:>"
      ]
     },
     "execution_count": 7,
     "metadata": {},
     "output_type": "execute_result"
    },
    {
     "data": {
      "image/png": "[encoded data removed]",
      "text/plain": [
       "<Figure size 720x720 with 2 Axes>"
      ]
     },
     "metadata": {
      "needs_background": "light"
     },
     "output_type": "display_data"
    }
   ],
   "source": [
    "fig, ax = plt.subplots(figsize = (10, 10))\n",
    "sns.heatmap(train_data.corr(), annot = True, square = True, ax = ax)"
   ]
  },
  {
   "cell_type": "markdown",
   "id": "77680085",
   "metadata": {
    "papermill": {
     "duration": 0.013883,
     "end_time": "2022-07-23T17:57:45.274402",
     "exception": false,
     "start_time": "2022-07-23T17:57:45.260519",
     "status": "completed"
    },
    "tags": []
   },
   "source": [
    "<span style=\"font-size:16px; font-family:verdana;\">\n",
    "    <strong>From the correlation matrix heatmap we can see that RoomService affects Transported the most, followed by Spa</strong>\n",
    "</span>"
   ]
  },
  {
   "cell_type": "markdown",
   "id": "db03a514",
   "metadata": {
    "papermill": {
     "duration": 0.01328,
     "end_time": "2022-07-23T17:57:45.301271",
     "exception": false,
     "start_time": "2022-07-23T17:57:45.287991",
     "status": "completed"
    },
    "tags": []
   },
   "source": [
    "# Missing values"
   ]
  },
  {
   "cell_type": "code",
   "execution_count": 8,
   "id": "2d9c1f90",
   "metadata": {
    "execution": {
     "iopub.execute_input": "2022-07-23T17:57:45.330783Z",
     "iopub.status.busy": "2022-07-23T17:57:45.330411Z",
     "iopub.status.idle": "2022-07-23T17:57:45.551839Z",
     "shell.execute_reply": "2022-07-23T17:57:45.550781Z"
    },
    "papermill": {
     "duration": 0.239324,
     "end_time": "2022-07-23T17:57:45.554167",
     "exception": false,
     "start_time": "2022-07-23T17:57:45.314843",
     "status": "completed"
    },
    "tags": []
   },
   "outputs": [
    {
     "data": {
      "image/png": "[encoded data removed]",
      "text/plain": [
       "<Figure size 432x288 with 1 Axes>"
      ]
     },
     "metadata": {
      "needs_background": "light"
     },
     "output_type": "display_data"
    }
   ],
   "source": [
    "no_of_missing_values = train_data.isnull().sum().sort_values()\n",
    "\n",
    "plt.ylabel(\"Column Name\")\n",
    "plt.xlabel(\"Number of values missing\")\n",
    "plt.barh(no_of_missing_values.index, no_of_missing_values.values)\n",
    "\n",
    "plt.show()"
   ]
  },
  {
   "cell_type": "markdown",
   "id": "25ee3ad1",
   "metadata": {
    "papermill": {
     "duration": 0.014034,
     "end_time": "2022-07-23T17:57:45.582473",
     "exception": false,
     "start_time": "2022-07-23T17:57:45.568439",
     "status": "completed"
    },
    "tags": []
   },
   "source": [
    "<span style=\"font-size:16px; font-family:verdana;\">\n",
    "    <strong>\n",
    "        Here I am filling the missing values in the numerical columns with their respective means, since this won't alter \n",
    "        the mean through the data set.\n",
    "        The missing values in the categorical columns are filled with their respective mode.\n",
    "    </strong>\n",
    "</span>"
   ]
  },
  {
   "cell_type": "code",
   "execution_count": 9,
   "id": "a836d0db",
   "metadata": {
    "execution": {
     "iopub.execute_input": "2022-07-23T17:57:45.613180Z",
     "iopub.status.busy": "2022-07-23T17:57:45.612784Z",
     "iopub.status.idle": "2022-07-23T17:57:45.702284Z",
     "shell.execute_reply": "2022-07-23T17:57:45.700924Z"
    },
    "papermill": {
     "duration": 0.10792,
     "end_time": "2022-07-23T17:57:45.704945",
     "exception": false,
     "start_time": "2022-07-23T17:57:45.597025",
     "status": "completed"
    },
    "tags": []
   },
   "outputs": [
    {
     "data": {
      "text/html": [
       "<div>\n",
       "<style scoped>\n",
       "    .dataframe tbody tr th:only-of-type {\n",
       "        vertical-align: middle;\n",
       "    }\n",
       "\n",
       "    .dataframe tbody tr th {\n",
       "        vertical-align: top;\n",
       "    }\n",
       "\n",
       "    .dataframe thead th {\n",
       "        text-align: right;\n",
       "    }\n",
       "</style>\n",
       "<table border=\"1\" class=\"dataframe\">\n",
       "  <thead>\n",
       "    <tr style=\"text-align: right;\">\n",
       "      <th></th>\n",
       "      <th>Age</th>\n",
       "      <th>RoomService</th>\n",
       "      <th>FoodCourt</th>\n",
       "      <th>ShoppingMall</th>\n",
       "      <th>Spa</th>\n",
       "      <th>VRDeck</th>\n",
       "    </tr>\n",
       "  </thead>\n",
       "  <tbody>\n",
       "    <tr>\n",
       "      <th>count</th>\n",
       "      <td>8693.000000</td>\n",
       "      <td>8693.000000</td>\n",
       "      <td>8693.000000</td>\n",
       "      <td>8693.000000</td>\n",
       "      <td>8693.000000</td>\n",
       "      <td>8693.000000</td>\n",
       "    </tr>\n",
       "    <tr>\n",
       "      <th>mean</th>\n",
       "      <td>28.827930</td>\n",
       "      <td>224.687617</td>\n",
       "      <td>458.077203</td>\n",
       "      <td>173.729169</td>\n",
       "      <td>311.138778</td>\n",
       "      <td>304.854791</td>\n",
       "    </tr>\n",
       "    <tr>\n",
       "      <th>std</th>\n",
       "      <td>14.339054</td>\n",
       "      <td>659.739364</td>\n",
       "      <td>1594.434978</td>\n",
       "      <td>597.417440</td>\n",
       "      <td>1124.675871</td>\n",
       "      <td>1133.259049</td>\n",
       "    </tr>\n",
       "    <tr>\n",
       "      <th>min</th>\n",
       "      <td>0.000000</td>\n",
       "      <td>0.000000</td>\n",
       "      <td>0.000000</td>\n",
       "      <td>0.000000</td>\n",
       "      <td>0.000000</td>\n",
       "      <td>0.000000</td>\n",
       "    </tr>\n",
       "    <tr>\n",
       "      <th>25%</th>\n",
       "      <td>20.000000</td>\n",
       "      <td>0.000000</td>\n",
       "      <td>0.000000</td>\n",
       "      <td>0.000000</td>\n",
       "      <td>0.000000</td>\n",
       "      <td>0.000000</td>\n",
       "    </tr>\n",
       "    <tr>\n",
       "      <th>50%</th>\n",
       "      <td>27.000000</td>\n",
       "      <td>0.000000</td>\n",
       "      <td>0.000000</td>\n",
       "      <td>0.000000</td>\n",
       "      <td>0.000000</td>\n",
       "      <td>0.000000</td>\n",
       "    </tr>\n",
       "    <tr>\n",
       "      <th>75%</th>\n",
       "      <td>37.000000</td>\n",
       "      <td>78.000000</td>\n",
       "      <td>118.000000</td>\n",
       "      <td>45.000000</td>\n",
       "      <td>89.000000</td>\n",
       "      <td>71.000000</td>\n",
       "    </tr>\n",
       "    <tr>\n",
       "      <th>max</th>\n",
       "      <td>79.000000</td>\n",
       "      <td>14327.000000</td>\n",
       "      <td>29813.000000</td>\n",
       "      <td>23492.000000</td>\n",
       "      <td>22408.000000</td>\n",
       "      <td>24133.000000</td>\n",
       "    </tr>\n",
       "  </tbody>\n",
       "</table>\n",
       "</div>"
      ],
      "text/plain": [
       "               Age   RoomService     FoodCourt  ShoppingMall           Spa  \\\n",
       "count  8693.000000   8693.000000   8693.000000   8693.000000   8693.000000   \n",
       "mean     28.827930    224.687617    458.077203    173.729169    311.138778   \n",
       "std      14.339054    659.739364   1594.434978    597.417440   1124.675871   \n",
       "min       0.000000      0.000000      0.000000      0.000000      0.000000   \n",
       "25%      20.000000      0.000000      0.000000      0.000000      0.000000   \n",
       "50%      27.000000      0.000000      0.000000      0.000000      0.000000   \n",
       "75%      37.000000     78.000000    118.000000     45.000000     89.000000   \n",
       "max      79.000000  14327.000000  29813.000000  23492.000000  22408.000000   \n",
       "\n",
       "             VRDeck  \n",
       "count   8693.000000  \n",
       "mean     304.854791  \n",
       "std     1133.259049  \n",
       "min        0.000000  \n",
       "25%        0.000000  \n",
       "50%        0.000000  \n",
       "75%       71.000000  \n",
       "max    24133.000000  "
      ]
     },
     "execution_count": 9,
     "metadata": {},
     "output_type": "execute_result"
    }
   ],
   "source": [
    "def fill(df):\n",
    "    for col in num_columns:\n",
    "        df[col] = df[col].fillna(value = df[col].mean())\n",
    "\n",
    "    for col in cat_columns:\n",
    "        df[col] = df[col].fillna(value = df[col].mode()[0])\n",
    "    return df\n",
    "\n",
    "train_data = fill(train_data)\n",
    "test_data = fill(test_data)\n",
    "train_data.describe()"
   ]
  },
  {
   "cell_type": "markdown",
   "id": "02630988",
   "metadata": {
    "papermill": {
     "duration": 0.014006,
     "end_time": "2022-07-23T17:57:45.733448",
     "exception": false,
     "start_time": "2022-07-23T17:57:45.719442",
     "status": "completed"
    },
    "tags": []
   },
   "source": [
    "# Plots of different Data categories and Transported"
   ]
  },
  {
   "cell_type": "markdown",
   "id": "b28756dd",
   "metadata": {
    "papermill": {
     "duration": 0.013734,
     "end_time": "2022-07-23T17:57:45.761823",
     "exception": false,
     "start_time": "2022-07-23T17:57:45.748089",
     "status": "completed"
    },
    "tags": []
   },
   "source": [
    "<span style=\"font-size:16px; font-family:verdana;\">\n",
    "<strong>Home planet vs Transported</strong></span>"
   ]
  },
  {
   "cell_type": "code",
   "execution_count": 10,
   "id": "1a020dda",
   "metadata": {
    "execution": {
     "iopub.execute_input": "2022-07-23T17:57:45.791606Z",
     "iopub.status.busy": "2022-07-23T17:57:45.790914Z",
     "iopub.status.idle": "2022-07-23T17:57:45.990728Z",
     "shell.execute_reply": "2022-07-23T17:57:45.989613Z"
    },
    "papermill": {
     "duration": 0.217442,
     "end_time": "2022-07-23T17:57:45.993281",
     "exception": false,
     "start_time": "2022-07-23T17:57:45.775839",
     "status": "completed"
    },
    "tags": []
   },
   "outputs": [
    {
     "data": {
      "image/png": "[encoded data removed]",
      "text/plain": [
       "<Figure size 432x288 with 1 Axes>"
      ]
     },
     "metadata": {
      "needs_background": "light"
     },
     "output_type": "display_data"
    }
   ],
   "source": [
    "true_transported = train_data[train_data['Transported'] == True]\n",
    "false_transported = train_data[train_data['Transported'] == False]\n",
    "\n",
    "df_t = true_transported.groupby('HomePlanet')['PassengerId'].nunique()\n",
    "df_f = false_transported.groupby('HomePlanet')['PassengerId'].nunique()\n",
    "\n",
    "xpos = np.arange(len(df_t.index))\n",
    "\n",
    "plt.xlabel(\"Home Planet\")\n",
    "plt.ylabel(\"Number of people\")\n",
    "plt.xticks(xpos, df_t.index)\n",
    "plt.bar(xpos - 0.2, df_t.values, label = 'Transported', width = 0.4)\n",
    "plt.bar(xpos + 0.2, df_f.values, label = 'Not Transported', width = 0.4)\n",
    "plt.title(\"Distribution of people transported based on their home planet\")\n",
    "plt.legend()\n",
    "\n",
    "plt.show()"
   ]
  },
  {
   "cell_type": "markdown",
   "id": "aa484598",
   "metadata": {
    "papermill": {
     "duration": 0.014133,
     "end_time": "2022-07-23T17:57:46.022045",
     "exception": false,
     "start_time": "2022-07-23T17:57:46.007912",
     "status": "completed"
    },
    "tags": []
   },
   "source": [
    "<span style=\"font-size:16px; font-family:verdana;\">\n",
    "<strong>Destination vs Transported</strong></span>"
   ]
  },
  {
   "cell_type": "code",
   "execution_count": 11,
   "id": "a6581e7c",
   "metadata": {
    "execution": {
     "iopub.execute_input": "2022-07-23T17:57:46.053665Z",
     "iopub.status.busy": "2022-07-23T17:57:46.052958Z",
     "iopub.status.idle": "2022-07-23T17:57:46.257073Z",
     "shell.execute_reply": "2022-07-23T17:57:46.255926Z"
    },
    "papermill": {
     "duration": 0.223084,
     "end_time": "2022-07-23T17:57:46.259768",
     "exception": false,
     "start_time": "2022-07-23T17:57:46.036684",
     "status": "completed"
    },
    "tags": []
   },
   "outputs": [
    {
     "data": {
      "image/png": "[encoded data removed]",
      "text/plain": [
       "<Figure size 432x288 with 1 Axes>"
      ]
     },
     "metadata": {
      "needs_background": "light"
     },
     "output_type": "display_data"
    }
   ],
   "source": [
    "df_t = true_transported.groupby('Destination')['PassengerId'].nunique()\n",
    "df_f = false_transported.groupby('Destination')['PassengerId'].nunique()\n",
    "\n",
    "xpos = np.arange(len(df_t.index))\n",
    "\n",
    "plt.xlabel(\"Destination\")\n",
    "plt.ylabel(\"Number of people\")\n",
    "plt.xticks(xpos, df_t.index)\n",
    "plt.bar(xpos - 0.2, df_t.values, label = 'Transported', width = 0.4)\n",
    "plt.bar(xpos + 0.2, df_f.values, label = 'Not Transported', width = 0.4)\n",
    "plt.title(\"Distribution of people transported based on their destination\")\n",
    "plt.legend()\n",
    "\n",
    "plt.show()"
   ]
  },
  {
   "cell_type": "markdown",
   "id": "0ab61dda",
   "metadata": {
    "papermill": {
     "duration": 0.014791,
     "end_time": "2022-07-23T17:57:46.289848",
     "exception": false,
     "start_time": "2022-07-23T17:57:46.275057",
     "status": "completed"
    },
    "tags": []
   },
   "source": [
    "<span style=\"font-size:16px; font-family:verdana;\">\n",
    "<strong>CryoSleep vs Transported</strong>\n",
    "\n",
    "Division of people who were transported on the basis of whether they were in cryo sleep or not</span>"
   ]
  },
  {
   "cell_type": "code",
   "execution_count": 12,
   "id": "ba71cc06",
   "metadata": {
    "execution": {
     "iopub.execute_input": "2022-07-23T17:57:46.322432Z",
     "iopub.status.busy": "2022-07-23T17:57:46.321674Z",
     "iopub.status.idle": "2022-07-23T17:57:46.519022Z",
     "shell.execute_reply": "2022-07-23T17:57:46.518281Z"
    },
    "papermill": {
     "duration": 0.215908,
     "end_time": "2022-07-23T17:57:46.520997",
     "exception": false,
     "start_time": "2022-07-23T17:57:46.305089",
     "status": "completed"
    },
    "tags": []
   },
   "outputs": [
    {
     "data": {
      "image/png": "[encoded data removed]",
      "text/plain": [
       "<Figure size 432x288 with 1 Axes>"
      ]
     },
     "metadata": {
      "needs_background": "light"
     },
     "output_type": "display_data"
    }
   ],
   "source": [
    "df_t = true_transported.groupby('CryoSleep')['PassengerId'].nunique()\n",
    "df_f = false_transported.groupby('CryoSleep')['PassengerId'].nunique()\n",
    "\n",
    "xpos = np.arange(len(df_t.index))\n",
    "\n",
    "plt.xlabel(\"In Cryo sleep\")\n",
    "plt.ylabel(\"Number of people\")\n",
    "plt.xticks(xpos, df_t.index)\n",
    "plt.bar(xpos - 0.2, df_t.values, label = 'Transported', width = 0.4)\n",
    "plt.bar(xpos + 0.2, df_f.values, label = 'Not Transported', width = 0.4)\n",
    "plt.title(\"Distribution of people transported based on whether they were in cryo sleep or not\")\n",
    "plt.legend()\n",
    "\n",
    "plt.show()"
   ]
  },
  {
   "cell_type": "markdown",
   "id": "53b5d685",
   "metadata": {
    "papermill": {
     "duration": 0.014673,
     "end_time": "2022-07-23T17:57:46.550458",
     "exception": false,
     "start_time": "2022-07-23T17:57:46.535785",
     "status": "completed"
    },
    "tags": []
   },
   "source": [
    "<span style=\"font-size:16px; font-family:verdana;\">\n",
    "    <strong>Age vs Transported</strong><br>\n",
    "</span>"
   ]
  },
  {
   "cell_type": "code",
   "execution_count": 13,
   "id": "7464cd2b",
   "metadata": {
    "execution": {
     "iopub.execute_input": "2022-07-23T17:57:46.583349Z",
     "iopub.status.busy": "2022-07-23T17:57:46.582340Z",
     "iopub.status.idle": "2022-07-23T17:57:47.397557Z",
     "shell.execute_reply": "2022-07-23T17:57:47.396420Z"
    },
    "papermill": {
     "duration": 0.834831,
     "end_time": "2022-07-23T17:57:47.400370",
     "exception": false,
     "start_time": "2022-07-23T17:57:46.565539",
     "status": "completed"
    },
    "tags": []
   },
   "outputs": [
    {
     "data": {
      "image/png": "[encoded data removed]",
      "text/plain": [
       "<Figure size 432x288 with 2 Axes>"
      ]
     },
     "metadata": {
      "needs_background": "light"
     },
     "output_type": "display_data"
    }
   ],
   "source": [
    "df = true_transported[true_transported['Age'] > 0]['Age']\n",
    "\n",
    "fig, plots = plt.subplots(2, 1)\n",
    "\n",
    "plot1 = sns.histplot(kde = True,bins = int(true_transported['Age'].max()) + 1, data = df, ax = plots[0])\n",
    "plot1.set(xlabel = 'Age', ylabel = 'Number of people', title = 'Age distribution of people transported')\n",
    "\n",
    "plot2 = sns.histplot(x = 'Age', data = train_data, hue = 'Transported', kde = True, ax = plots[1])\n",
    "plot2.set(xlabel = 'Age', ylabel = 'Number of people', title = 'Age-wise comparison on whether or not people transported')\n",
    "\n",
    "plt.subplots_adjust(top = 3.0)\n",
    "plt.show()"
   ]
  },
  {
   "cell_type": "markdown",
   "id": "ffcda3b2",
   "metadata": {
    "papermill": {
     "duration": 0.016164,
     "end_time": "2022-07-23T17:57:47.433497",
     "exception": false,
     "start_time": "2022-07-23T17:57:47.417333",
     "status": "completed"
    },
    "tags": []
   },
   "source": [
    "<span style=\"font-size:16px; font-family:verdana;\">\n",
    "    <strong>VIP vs Transported</strong>\n",
    "    <br>This chart shows that only 1.74% of the people transported were VIPs\n",
    "</span>"
   ]
  },
  {
   "cell_type": "code",
   "execution_count": 14,
   "id": "21935b95",
   "metadata": {
    "execution": {
     "iopub.execute_input": "2022-07-23T17:57:47.468595Z",
     "iopub.status.busy": "2022-07-23T17:57:47.467892Z",
     "iopub.status.idle": "2022-07-23T17:57:47.678001Z",
     "shell.execute_reply": "2022-07-23T17:57:47.676741Z"
    },
    "papermill": {
     "duration": 0.23016,
     "end_time": "2022-07-23T17:57:47.680398",
     "exception": false,
     "start_time": "2022-07-23T17:57:47.450238",
     "status": "completed"
    },
    "tags": []
   },
   "outputs": [
    {
     "data": {
      "image/png": "[encoded data removed]",
      "text/plain": [
       "<Figure size 432x288 with 2 Axes>"
      ]
     },
     "metadata": {},
     "output_type": "display_data"
    }
   ],
   "source": [
    "fig, (ax1,ax2) = plt.subplots(2, 1)\n",
    "\n",
    "df = true_transported.groupby('VIP')['PassengerId'].nunique()\n",
    "ax1.axis(\"equal\")\n",
    "ax1.pie(df.values, labels=df.index, radius=1.0, autopct='%0.2f%%')\n",
    "ax1.set_title('Percentage of VIPs among those transported')\n",
    "\n",
    "df = train_data[train_data['VIP'] == True].groupby('Transported')['PassengerId'].nunique()\n",
    "ax2.axis(\"equal\")\n",
    "ax2.pie(df.values, labels=df.index, radius=1.0, autopct='%0.2f%%', startangle = 70)\n",
    "ax2.set_title('Percentage of people transported among the VIPs')\n",
    "\n",
    "plt.subplots_adjust(top = 2.0)\n",
    "plt.show()"
   ]
  },
  {
   "cell_type": "markdown",
   "id": "45b5ee06",
   "metadata": {
    "papermill": {
     "duration": 0.016957,
     "end_time": "2022-07-23T17:57:47.714410",
     "exception": false,
     "start_time": "2022-07-23T17:57:47.697453",
     "status": "completed"
    },
    "tags": []
   },
   "source": [
    "<span style=\"font-size:16px; font-family:verdana;\">\n",
    "    <strong>Cabin vs Transported</strong>\n",
    "</span>"
   ]
  },
  {
   "cell_type": "code",
   "execution_count": 15,
   "id": "05886cb7",
   "metadata": {
    "execution": {
     "iopub.execute_input": "2022-07-23T17:57:47.750565Z",
     "iopub.status.busy": "2022-07-23T17:57:47.750090Z",
     "iopub.status.idle": "2022-07-23T17:57:47.812127Z",
     "shell.execute_reply": "2022-07-23T17:57:47.810938Z"
    },
    "papermill": {
     "duration": 0.082542,
     "end_time": "2022-07-23T17:57:47.814761",
     "exception": false,
     "start_time": "2022-07-23T17:57:47.732219",
     "status": "completed"
    },
    "tags": []
   },
   "outputs": [],
   "source": [
    "def cabin_separation(df):\n",
    "    k = df['Cabin'].str.split('/', expand = True)\n",
    "    df['CabinDeck'] = k[0]\n",
    "    df['CabinNum']  = k[1].astype(int)\n",
    "    df['CabinSide'] = k[2]\n",
    "    df.drop(columns = ['Cabin'], inplace = True)\n",
    "    \n",
    "    return df\n",
    "\n",
    "train_data = cabin_separation(train_data)\n",
    "test_data = cabin_separation(test_data)\n",
    "\n",
    "t_transported = train_data[train_data['Transported'] == True].dropna()\n",
    "f_transported = train_data[train_data['Transported'] == False].dropna()\n",
    "df_1 = t_transported.groupby('CabinDeck')['PassengerId'].nunique()\n",
    "df_2 = f_transported.groupby('CabinDeck')['PassengerId'].nunique()\n",
    "df_3 = t_transported.groupby('CabinSide')['PassengerId'].nunique()\n",
    "df_4 = f_transported.groupby('CabinSide')['PassengerId'].nunique()"
   ]
  },
  {
   "cell_type": "code",
   "execution_count": 16,
   "id": "713f868f",
   "metadata": {
    "execution": {
     "iopub.execute_input": "2022-07-23T17:57:47.850479Z",
     "iopub.status.busy": "2022-07-23T17:57:47.850092Z",
     "iopub.status.idle": "2022-07-23T17:57:48.170686Z",
     "shell.execute_reply": "2022-07-23T17:57:48.169546Z"
    },
    "papermill": {
     "duration": 0.341187,
     "end_time": "2022-07-23T17:57:48.172902",
     "exception": false,
     "start_time": "2022-07-23T17:57:47.831715",
     "status": "completed"
    },
    "tags": []
   },
   "outputs": [
    {
     "data": {
      "image/png": "[encoded data removed]",
      "text/plain": [
       "<Figure size 432x288 with 1 Axes>"
      ]
     },
     "metadata": {
      "needs_background": "light"
     },
     "output_type": "display_data"
    }
   ],
   "source": [
    "xpos = np.arange(len(df_1.index))\n",
    "\n",
    "plt.xlabel(\"Cabin Deck\")\n",
    "plt.ylabel(\"Number of people\")\n",
    "plt.xticks(xpos, df_1.index)\n",
    "plt.bar(xpos - 0.2, df_1.values, label = 'Transported', width = 0.4)\n",
    "plt.bar(xpos + 0.2, df_2.values, label = 'Not transported', width = 0.4)\n",
    "plt.title(\"Distribution of people transported based on their cabin deck\")\n",
    "plt.legend()\n",
    "\n",
    "plt.show()"
   ]
  },
  {
   "cell_type": "code",
   "execution_count": 17,
   "id": "187aaf14",
   "metadata": {
    "execution": {
     "iopub.execute_input": "2022-07-23T17:57:48.209322Z",
     "iopub.status.busy": "2022-07-23T17:57:48.208919Z",
     "iopub.status.idle": "2022-07-23T17:57:48.679295Z",
     "shell.execute_reply": "2022-07-23T17:57:48.678563Z"
    },
    "papermill": {
     "duration": 0.491022,
     "end_time": "2022-07-23T17:57:48.681283",
     "exception": false,
     "start_time": "2022-07-23T17:57:48.190261",
     "status": "completed"
    },
    "tags": []
   },
   "outputs": [
    {
     "data": {
      "text/plain": [
       "[Text(0.5, 0, 'Cabin Number'), Text(0, 0.5, 'Number of people')]"
      ]
     },
     "execution_count": 17,
     "metadata": {},
     "output_type": "execute_result"
    },
    {
     "data": {
      "image/png": "[encoded data removed]",
      "text/plain": [
       "<Figure size 432x288 with 1 Axes>"
      ]
     },
     "metadata": {
      "needs_background": "light"
     },
     "output_type": "display_data"
    }
   ],
   "source": [
    "cnum_max = train_data.max()['CabinNum']\n",
    "plot = sns.histplot(x = 'CabinNum', data = train_data, hue = 'Transported', kde = True, bins = np.arange(0, cnum_max, 40))\n",
    "plot.set(xlabel = 'Cabin Number', ylabel = 'Number of people')"
   ]
  },
  {
   "cell_type": "code",
   "execution_count": 18,
   "id": "f165843c",
   "metadata": {
    "execution": {
     "iopub.execute_input": "2022-07-23T17:57:48.719258Z",
     "iopub.status.busy": "2022-07-23T17:57:48.718191Z",
     "iopub.status.idle": "2022-07-23T17:57:48.903136Z",
     "shell.execute_reply": "2022-07-23T17:57:48.902318Z"
    },
    "papermill": {
     "duration": 0.205888,
     "end_time": "2022-07-23T17:57:48.905177",
     "exception": false,
     "start_time": "2022-07-23T17:57:48.699289",
     "status": "completed"
    },
    "tags": []
   },
   "outputs": [
    {
     "data": {
      "image/png": "[encoded data removed]",
      "text/plain": [
       "<Figure size 432x288 with 1 Axes>"
      ]
     },
     "metadata": {
      "needs_background": "light"
     },
     "output_type": "display_data"
    }
   ],
   "source": [
    "xpos = np.arange(len(df_3.index))\n",
    "\n",
    "plt.xlabel(\"Cabin Side\")\n",
    "plt.ylabel(\"Number of people\")\n",
    "plt.xticks(xpos, df_3.index)\n",
    "plt.bar(xpos - 0.2, df_3.values, label = 'Transported', width = 0.4)\n",
    "plt.bar(xpos + 0.2, df_4.values, label = 'Not transported', width = 0.4)\n",
    "plt.title(\"Distribution of people transported based on their cabin side\")\n",
    "plt.legend()\n",
    "\n",
    "plt.show()"
   ]
  },
  {
   "cell_type": "markdown",
   "id": "81186a90",
   "metadata": {
    "papermill": {
     "duration": 0.017434,
     "end_time": "2022-07-23T17:57:48.940401",
     "exception": false,
     "start_time": "2022-07-23T17:57:48.922967",
     "status": "completed"
    },
    "tags": []
   },
   "source": [
    "<span style=\"font-size:16px; font-family:verdana;\">\n",
    "<strong>Finding Total Bill and average cost deck-wise"
   ]
  },
  {
   "cell_type": "code",
   "execution_count": 19,
   "id": "763622cd",
   "metadata": {
    "execution": {
     "iopub.execute_input": "2022-07-23T17:57:48.978108Z",
     "iopub.status.busy": "2022-07-23T17:57:48.977568Z",
     "iopub.status.idle": "2022-07-23T17:57:49.009704Z",
     "shell.execute_reply": "2022-07-23T17:57:49.008902Z"
    },
    "papermill": {
     "duration": 0.053568,
     "end_time": "2022-07-23T17:57:49.011807",
     "exception": false,
     "start_time": "2022-07-23T17:57:48.958239",
     "status": "completed"
    },
    "tags": []
   },
   "outputs": [
    {
     "data": {
      "text/html": [
       "<div>\n",
       "<style scoped>\n",
       "    .dataframe tbody tr th:only-of-type {\n",
       "        vertical-align: middle;\n",
       "    }\n",
       "\n",
       "    .dataframe tbody tr th {\n",
       "        vertical-align: top;\n",
       "    }\n",
       "\n",
       "    .dataframe thead th {\n",
       "        text-align: right;\n",
       "    }\n",
       "</style>\n",
       "<table border=\"1\" class=\"dataframe\">\n",
       "  <thead>\n",
       "    <tr style=\"text-align: right;\">\n",
       "      <th></th>\n",
       "      <th>CabinDeck</th>\n",
       "      <th>Total</th>\n",
       "      <th>Transported</th>\n",
       "      <th>CryoSleep</th>\n",
       "      <th>PassengerId</th>\n",
       "      <th>Avg</th>\n",
       "      <th>TransportPercent</th>\n",
       "      <th>CryoPercent</th>\n",
       "    </tr>\n",
       "  </thead>\n",
       "  <tbody>\n",
       "    <tr>\n",
       "      <th>7</th>\n",
       "      <td>T</td>\n",
       "      <td>2.375573e+04</td>\n",
       "      <td>1</td>\n",
       "      <td>0</td>\n",
       "      <td>5</td>\n",
       "      <td>4751.145834</td>\n",
       "      <td>0.200000</td>\n",
       "      <td>0.000000</td>\n",
       "    </tr>\n",
       "    <tr>\n",
       "      <th>2</th>\n",
       "      <td>C</td>\n",
       "      <td>3.092499e+06</td>\n",
       "      <td>508</td>\n",
       "      <td>294</td>\n",
       "      <td>747</td>\n",
       "      <td>4139.891481</td>\n",
       "      <td>0.680054</td>\n",
       "      <td>0.393574</td>\n",
       "    </tr>\n",
       "    <tr>\n",
       "      <th>0</th>\n",
       "      <td>A</td>\n",
       "      <td>8.757700e+05</td>\n",
       "      <td>127</td>\n",
       "      <td>68</td>\n",
       "      <td>256</td>\n",
       "      <td>3420.976448</td>\n",
       "      <td>0.496094</td>\n",
       "      <td>0.265625</td>\n",
       "    </tr>\n",
       "    <tr>\n",
       "      <th>1</th>\n",
       "      <td>B</td>\n",
       "      <td>2.302080e+06</td>\n",
       "      <td>572</td>\n",
       "      <td>419</td>\n",
       "      <td>779</td>\n",
       "      <td>2955.173482</td>\n",
       "      <td>0.734275</td>\n",
       "      <td>0.537869</td>\n",
       "    </tr>\n",
       "    <tr>\n",
       "      <th>3</th>\n",
       "      <td>D</td>\n",
       "      <td>1.110432e+06</td>\n",
       "      <td>207</td>\n",
       "      <td>104</td>\n",
       "      <td>478</td>\n",
       "      <td>2323.079280</td>\n",
       "      <td>0.433054</td>\n",
       "      <td>0.217573</td>\n",
       "    </tr>\n",
       "    <tr>\n",
       "      <th>4</th>\n",
       "      <td>E</td>\n",
       "      <td>1.160561e+06</td>\n",
       "      <td>313</td>\n",
       "      <td>168</td>\n",
       "      <td>876</td>\n",
       "      <td>1324.841584</td>\n",
       "      <td>0.357306</td>\n",
       "      <td>0.191781</td>\n",
       "    </tr>\n",
       "    <tr>\n",
       "      <th>5</th>\n",
       "      <td>F</td>\n",
       "      <td>2.840079e+06</td>\n",
       "      <td>1229</td>\n",
       "      <td>550</td>\n",
       "      <td>2794</td>\n",
       "      <td>1016.492233</td>\n",
       "      <td>0.439871</td>\n",
       "      <td>0.196850</td>\n",
       "    </tr>\n",
       "    <tr>\n",
       "      <th>6</th>\n",
       "      <td>G</td>\n",
       "      <td>1.395157e+06</td>\n",
       "      <td>1421</td>\n",
       "      <td>1434</td>\n",
       "      <td>2758</td>\n",
       "      <td>505.858285</td>\n",
       "      <td>0.515228</td>\n",
       "      <td>0.519942</td>\n",
       "    </tr>\n",
       "  </tbody>\n",
       "</table>\n",
       "</div>"
      ],
      "text/plain": [
       "  CabinDeck         Total  Transported  CryoSleep  PassengerId          Avg  \\\n",
       "7         T  2.375573e+04            1          0            5  4751.145834   \n",
       "2         C  3.092499e+06          508        294          747  4139.891481   \n",
       "0         A  8.757700e+05          127         68          256  3420.976448   \n",
       "1         B  2.302080e+06          572        419          779  2955.173482   \n",
       "3         D  1.110432e+06          207        104          478  2323.079280   \n",
       "4         E  1.160561e+06          313        168          876  1324.841584   \n",
       "5         F  2.840079e+06         1229        550         2794  1016.492233   \n",
       "6         G  1.395157e+06         1421       1434         2758   505.858285   \n",
       "\n",
       "   TransportPercent  CryoPercent  \n",
       "7          0.200000     0.000000  \n",
       "2          0.680054     0.393574  \n",
       "0          0.496094     0.265625  \n",
       "1          0.734275     0.537869  \n",
       "3          0.433054     0.217573  \n",
       "4          0.357306     0.191781  \n",
       "5          0.439871     0.196850  \n",
       "6          0.515228     0.519942  "
      ]
     },
     "execution_count": 19,
     "metadata": {},
     "output_type": "execute_result"
    }
   ],
   "source": [
    "def total_bill(df):\n",
    "    df['Total'] = df['RoomService'] + df['FoodCourt'] + df['ShoppingMall'] + df['Spa'] + df['VRDeck']\n",
    "    return df\n",
    "\n",
    "train_data = total_bill(train_data)\n",
    "test_data = total_bill(test_data)\n",
    "\n",
    "deck_wise = train_data.groupby('CabinDeck').aggregate({'Total': 'sum', 'Transported': 'sum', 'CryoSleep': 'sum', 'PassengerId': 'size'}).reset_index()\n",
    "deck_wise['Avg'] = deck_wise['Total'] / deck_wise['PassengerId']\n",
    "deck_wise['TransportPercent'] = deck_wise['Transported'] / deck_wise['PassengerId']\n",
    "deck_wise['CryoPercent'] = deck_wise['CryoSleep'] / deck_wise['PassengerId']\n",
    "deck_wise = deck_wise.sort_values('Avg', ascending = False)\n",
    "deck_wise"
   ]
  },
  {
   "cell_type": "code",
   "execution_count": 20,
   "id": "29d0c575",
   "metadata": {
    "execution": {
     "iopub.execute_input": "2022-07-23T17:57:49.050186Z",
     "iopub.status.busy": "2022-07-23T17:57:49.049463Z",
     "iopub.status.idle": "2022-07-23T17:57:49.073647Z",
     "shell.execute_reply": "2022-07-23T17:57:49.072826Z"
    },
    "papermill": {
     "duration": 0.045982,
     "end_time": "2022-07-23T17:57:49.076034",
     "exception": false,
     "start_time": "2022-07-23T17:57:49.030052",
     "status": "completed"
    },
    "tags": []
   },
   "outputs": [],
   "source": [
    "train_data = train_data.merge(deck_wise[['CabinDeck', 'TransportPercent', 'Avg']], how = 'left', on = ['CabinDeck'])\n",
    "test_data = test_data.merge(deck_wise[['CabinDeck', 'TransportPercent', 'Avg']], how = 'left', on = ['CabinDeck'])"
   ]
  },
  {
   "cell_type": "code",
   "execution_count": 21,
   "id": "f677dc59",
   "metadata": {
    "execution": {
     "iopub.execute_input": "2022-07-23T17:57:49.114263Z",
     "iopub.status.busy": "2022-07-23T17:57:49.113607Z",
     "iopub.status.idle": "2022-07-23T17:57:49.625033Z",
     "shell.execute_reply": "2022-07-23T17:57:49.624013Z"
    },
    "papermill": {
     "duration": 0.533156,
     "end_time": "2022-07-23T17:57:49.627378",
     "exception": false,
     "start_time": "2022-07-23T17:57:49.094222",
     "status": "completed"
    },
    "tags": []
   },
   "outputs": [
    {
     "data": {
      "text/plain": [
       "Text(0.5, 1.0, 'Average Total Expenditure')"
      ]
     },
     "execution_count": 21,
     "metadata": {},
     "output_type": "execute_result"
    },
    {
     "data": {
      "image/png": "[encoded data removed]",
      "text/plain": [
       "<Figure size 720x720 with 4 Axes>"
      ]
     },
     "metadata": {
      "needs_background": "light"
     },
     "output_type": "display_data"
    }
   ],
   "source": [
    "fig, ax = plt.subplots(2, 2, figsize = (10, 10))\n",
    "\n",
    "ax[0, 0].bar(deck_wise['CabinDeck'], deck_wise['TransportPercent'])\n",
    "ax[0, 0].set_title(\"Percentage of people Transported\")\n",
    "\n",
    "ax[0, 1].bar(deck_wise['CabinDeck'], deck_wise['CryoPercent'])\n",
    "ax[0, 1].set_title(\"Percentage of people in Cryo Sleep\")\n",
    "\n",
    "ax[1, 0].bar(deck_wise['CabinDeck'], deck_wise['Total'])\n",
    "ax[1, 0].set_title(\"Total Bill\")\n",
    "\n",
    "ax[1, 1].bar(deck_wise['CabinDeck'], deck_wise['Avg'])\n",
    "ax[1, 1].set_title(\"Average Total Expenditure\")"
   ]
  },
  {
   "cell_type": "markdown",
   "id": "71d2ef98",
   "metadata": {
    "papermill": {
     "duration": 0.018576,
     "end_time": "2022-07-23T17:57:49.665022",
     "exception": false,
     "start_time": "2022-07-23T17:57:49.646446",
     "status": "completed"
    },
    "tags": []
   },
   "source": [
    "<span style=\"font-size:16px; font-family:verdana;\">\n",
    "<strong>Passenger Id vs Transported"
   ]
  },
  {
   "cell_type": "code",
   "execution_count": 22,
   "id": "a6781895",
   "metadata": {
    "execution": {
     "iopub.execute_input": "2022-07-23T17:57:49.704118Z",
     "iopub.status.busy": "2022-07-23T17:57:49.703499Z",
     "iopub.status.idle": "2022-07-23T17:57:49.763453Z",
     "shell.execute_reply": "2022-07-23T17:57:49.762642Z"
    },
    "papermill": {
     "duration": 0.082202,
     "end_time": "2022-07-23T17:57:49.765721",
     "exception": false,
     "start_time": "2022-07-23T17:57:49.683519",
     "status": "completed"
    },
    "tags": []
   },
   "outputs": [],
   "source": [
    "def passid_separation(df):\n",
    "    k = df['PassengerId'].str.split('_', expand = True)\n",
    "    df['Group'] = k[0].astype(int)\n",
    "    df['GroupNo']  = k[1].astype(int)\n",
    "    \n",
    "    return df\n",
    "\n",
    "train_data = passid_separation(train_data)\n",
    "test_data = passid_separation(test_data)\n",
    "\n",
    "t_transported = train_data[train_data['Transported'] == True].dropna()\n",
    "f_transported = train_data[train_data['Transported'] == False].dropna()\n",
    "df_1 = t_transported.groupby('Group')['PassengerId'].nunique()\n",
    "df_2 = f_transported.groupby('Group')['PassengerId'].nunique()\n",
    "df_3 = t_transported.groupby('GroupNo')['PassengerId'].nunique()\n",
    "df_4 = f_transported.groupby('GroupNo')['PassengerId'].nunique()"
   ]
  },
  {
   "cell_type": "code",
   "execution_count": 23,
   "id": "076592cb",
   "metadata": {
    "execution": {
     "iopub.execute_input": "2022-07-23T17:57:49.804384Z",
     "iopub.status.busy": "2022-07-23T17:57:49.803501Z",
     "iopub.status.idle": "2022-07-23T17:57:50.310494Z",
     "shell.execute_reply": "2022-07-23T17:57:50.309259Z"
    },
    "papermill": {
     "duration": 0.528702,
     "end_time": "2022-07-23T17:57:50.312918",
     "exception": false,
     "start_time": "2022-07-23T17:57:49.784216",
     "status": "completed"
    },
    "tags": []
   },
   "outputs": [
    {
     "data": {
      "text/plain": [
       "[Text(0.5, 0, 'Group'), Text(0, 0.5, 'Number of people')]"
      ]
     },
     "execution_count": 23,
     "metadata": {},
     "output_type": "execute_result"
    },
    {
     "data": {
      "image/png": "[encoded data removed]",
      "text/plain": [
       "<Figure size 432x288 with 1 Axes>"
      ]
     },
     "metadata": {
      "needs_background": "light"
     },
     "output_type": "display_data"
    }
   ],
   "source": [
    "group_max = train_data.max()['Group']\n",
    "plot = sns.histplot(x = 'Group', data = train_data, hue = 'Transported', kde = True, bins = np.arange(0, group_max, 200))\n",
    "plot.set(xlabel = 'Group', ylabel = 'Number of people')"
   ]
  },
  {
   "cell_type": "code",
   "execution_count": 24,
   "id": "8969eb82",
   "metadata": {
    "execution": {
     "iopub.execute_input": "2022-07-23T17:57:50.353588Z",
     "iopub.status.busy": "2022-07-23T17:57:50.353185Z",
     "iopub.status.idle": "2022-07-23T17:57:50.940007Z",
     "shell.execute_reply": "2022-07-23T17:57:50.938918Z"
    },
    "papermill": {
     "duration": 0.609827,
     "end_time": "2022-07-23T17:57:50.942298",
     "exception": false,
     "start_time": "2022-07-23T17:57:50.332471",
     "status": "completed"
    },
    "tags": []
   },
   "outputs": [
    {
     "data": {
      "text/plain": [
       "[Text(0.5, 0, 'Group Number'), Text(0, 0.5, 'Number of people')]"
      ]
     },
     "execution_count": 24,
     "metadata": {},
     "output_type": "execute_result"
    },
    {
     "data": {
      "image/png": "[encoded data removed]",
      "text/plain": [
       "<Figure size 432x288 with 1 Axes>"
      ]
     },
     "metadata": {
      "needs_background": "light"
     },
     "output_type": "display_data"
    }
   ],
   "source": [
    "group_max = train_data.max()['GroupNo']\n",
    "plot = sns.histplot(x = 'GroupNo', data = train_data, hue = 'Transported', kde = True)\n",
    "plot.set(xlabel = 'Group Number', ylabel = 'Number of people')"
   ]
  },
  {
   "cell_type": "markdown",
   "id": "9a2aadb6",
   "metadata": {
    "papermill": {
     "duration": 0.019683,
     "end_time": "2022-07-23T17:57:50.982074",
     "exception": false,
     "start_time": "2022-07-23T17:57:50.962391",
     "status": "completed"
    },
    "tags": []
   },
   "source": [
    "# **LightGBM Model**"
   ]
  },
  {
   "cell_type": "markdown",
   "id": "2b53e700",
   "metadata": {
    "papermill": {
     "duration": 0.019636,
     "end_time": "2022-07-23T17:57:51.021555",
     "exception": false,
     "start_time": "2022-07-23T17:57:51.001919",
     "status": "completed"
    },
    "tags": []
   },
   "source": [
    "# Importing necessary libraries"
   ]
  },
  {
   "cell_type": "code",
   "execution_count": 25,
   "id": "5b716c78",
   "metadata": {
    "execution": {
     "iopub.execute_input": "2022-07-23T17:57:51.063190Z",
     "iopub.status.busy": "2022-07-23T17:57:51.062761Z",
     "iopub.status.idle": "2022-07-23T17:57:52.244853Z",
     "shell.execute_reply": "2022-07-23T17:57:52.243919Z"
    },
    "papermill": {
     "duration": 1.206319,
     "end_time": "2022-07-23T17:57:52.247711",
     "exception": false,
     "start_time": "2022-07-23T17:57:51.041392",
     "status": "completed"
    },
    "tags": []
   },
   "outputs": [
    {
     "data": {
      "text/html": [
       "<style type='text/css'>\n",
       ".datatable table.frame { margin-bottom: 0; }\n",
       ".datatable table.frame thead { border-bottom: none; }\n",
       ".datatable table.frame tr.coltypes td {  color: #FFFFFF;  line-height: 6px;  padding: 0 0.5em;}\n",
       ".datatable .bool    { background: #DDDD99; }\n",
       ".datatable .object  { background: #565656; }\n",
       ".datatable .int     { background: #5D9E5D; }\n",
       ".datatable .float   { background: #4040CC; }\n",
       ".datatable .str     { background: #CC4040; }\n",
       ".datatable .time    { background: #40CC40; }\n",
       ".datatable .row_index {  background: var(--jp-border-color3);  border-right: 1px solid var(--jp-border-color0);  color: var(--jp-ui-font-color3);  font-size: 9px;}\n",
       ".datatable .frame tbody td { text-align: left; }\n",
       ".datatable .frame tr.coltypes .row_index {  background: var(--jp-border-color0);}\n",
       ".datatable th:nth-child(2) { padding-left: 12px; }\n",
       ".datatable .hellipsis {  color: var(--jp-cell-editor-border-color);}\n",
       ".datatable .vellipsis {  background: var(--jp-layout-color0);  color: var(--jp-cell-editor-border-color);}\n",
       ".datatable .na {  color: var(--jp-cell-editor-border-color);  font-size: 80%;}\n",
       ".datatable .sp {  opacity: 0.25;}\n",
       ".datatable .footer { font-size: 9px; }\n",
       ".datatable .frame_dimensions {  background: var(--jp-border-color3);  border-top: 1px solid var(--jp-border-color0);  color: var(--jp-ui-font-color3);  display: inline-block;  opacity: 0.6;  padding: 1px 10px 1px 5px;}\n",
       "</style>\n"
      ],
      "text/plain": [
       "<IPython.core.display.HTML object>"
      ]
     },
     "metadata": {},
     "output_type": "display_data"
    }
   ],
   "source": [
    "from sklearn.preprocessing import StandardScaler\n",
    "from sklearn.preprocessing import LabelEncoder\n",
    "from sklearn.metrics import accuracy_score\n",
    "import lightgbm as lgb\n",
    "\n",
    "sc = StandardScaler()"
   ]
  },
  {
   "cell_type": "markdown",
   "id": "b6a82664",
   "metadata": {
    "papermill": {
     "duration": 0.019989,
     "end_time": "2022-07-23T17:57:52.288501",
     "exception": false,
     "start_time": "2022-07-23T17:57:52.268512",
     "status": "completed"
    },
    "tags": []
   },
   "source": [
    "# Data Preprocessing"
   ]
  },
  {
   "cell_type": "code",
   "execution_count": 26,
   "id": "0b039c6f",
   "metadata": {
    "execution": {
     "iopub.execute_input": "2022-07-23T17:57:52.331144Z",
     "iopub.status.busy": "2022-07-23T17:57:52.330738Z",
     "iopub.status.idle": "2022-07-23T17:57:52.392631Z",
     "shell.execute_reply": "2022-07-23T17:57:52.391454Z"
    },
    "papermill": {
     "duration": 0.086193,
     "end_time": "2022-07-23T17:57:52.394974",
     "exception": false,
     "start_time": "2022-07-23T17:57:52.308781",
     "status": "completed"
    },
    "tags": []
   },
   "outputs": [],
   "source": [
    "cols = ['HomePlanet', 'CryoSleep', 'CabinDeck', 'CabinSide', 'Destination', 'VIP']\n",
    "\n",
    "def encode(df):\n",
    "    for col in cols:\n",
    "        df[col] = df[col].astype(str)\n",
    "        df[col] = LabelEncoder().fit_transform(df[col])\n",
    "    return df\n",
    "\n",
    "train_data = encode(train_data)\n",
    "test_data = encode(test_data)"
   ]
  },
  {
   "cell_type": "code",
   "execution_count": 27,
   "id": "6290aaef",
   "metadata": {
    "execution": {
     "iopub.execute_input": "2022-07-23T17:57:52.437394Z",
     "iopub.status.busy": "2022-07-23T17:57:52.437036Z",
     "iopub.status.idle": "2022-07-23T17:57:57.234544Z",
     "shell.execute_reply": "2022-07-23T17:57:57.233296Z"
    },
    "papermill": {
     "duration": 4.822809,
     "end_time": "2022-07-23T17:57:57.237725",
     "exception": false,
     "start_time": "2022-07-23T17:57:52.414916",
     "status": "completed"
    },
    "tags": []
   },
   "outputs": [
    {
     "name": "stdout",
     "output_type": "stream",
     "text": [
      "[LightGBM] [Info] Number of positive: 4378, number of negative: 4315\n",
      "[LightGBM] [Warning] Auto-choosing col-wise multi-threading, the overhead of testing was 0.001171 seconds.\n",
      "You can set `force_col_wise=true` to remove the overhead.\n",
      "[LightGBM] [Info] Total Bins 2156\n",
      "[LightGBM] [Info] Number of data points in the train set: 8693, number of used features: 16\n",
      "[LightGBM] [Info] [binary:BoostFromScore]: pavg=0.503624 -> initscore=0.014495\n",
      "[LightGBM] [Info] Start training from score 0.014495\n"
     ]
    }
   ],
   "source": [
    "features = ['HomePlanet', 'CryoSleep', 'Destination', 'VIP','CabinDeck', 'CabinNum', 'CabinSide', 'Group', 'Total', 'Avg'] + num_columns\n",
    "features_train = train_data[features]\n",
    "features_test = test_data[features]\n",
    "features_train = sc.fit_transform(features_train)\n",
    "features_test = sc.fit_transform(features_test)\n",
    "\n",
    "params = {}\n",
    "params['learning_rate'] = 0.08\n",
    "params['boosting_type'] = 'gbdt'\n",
    "params['objective'] = 'binary'\n",
    "params['metric'] = 'binary_logloss'\n",
    "params['sub_feature'] = 0.5\n",
    "params['num_leaves'] = 10\n",
    "params['min_data'] = 50\n",
    "params['max_depth'] = 10\n",
    "\n",
    "y_train = train_data['Transported']\n",
    "data = lgb.Dataset(features_train, label = y_train)\n",
    "\n",
    "model = lgb.train(params, data, train_data.count()[0])"
   ]
  },
  {
   "cell_type": "markdown",
   "id": "803e952d",
   "metadata": {
    "papermill": {
     "duration": 0.019834,
     "end_time": "2022-07-23T17:57:57.277793",
     "exception": false,
     "start_time": "2022-07-23T17:57:57.257959",
     "status": "completed"
    },
    "tags": []
   },
   "source": [
    "# Finding the predictions of the model"
   ]
  },
  {
   "cell_type": "code",
   "execution_count": 28,
   "id": "084089e3",
   "metadata": {
    "execution": {
     "iopub.execute_input": "2022-07-23T17:57:57.320060Z",
     "iopub.status.busy": "2022-07-23T17:57:57.319651Z",
     "iopub.status.idle": "2022-07-23T17:57:58.025417Z",
     "shell.execute_reply": "2022-07-23T17:57:58.024478Z"
    },
    "papermill": {
     "duration": 0.729916,
     "end_time": "2022-07-23T17:57:58.028140",
     "exception": false,
     "start_time": "2022-07-23T17:57:57.298224",
     "status": "completed"
    },
    "tags": []
   },
   "outputs": [],
   "source": [
    "output = model.predict(features_test)\n",
    "output = output > 0.5"
   ]
  },
  {
   "cell_type": "markdown",
   "id": "a6efee18",
   "metadata": {
    "papermill": {
     "duration": 0.019729,
     "end_time": "2022-07-23T17:57:58.070815",
     "exception": false,
     "start_time": "2022-07-23T17:57:58.051086",
     "status": "completed"
    },
    "tags": []
   },
   "source": [
    "# Creating the submission file"
   ]
  },
  {
   "cell_type": "code",
   "execution_count": 29,
   "id": "2380baf2",
   "metadata": {
    "execution": {
     "iopub.execute_input": "2022-07-23T17:57:58.112154Z",
     "iopub.status.busy": "2022-07-23T17:57:58.111741Z",
     "iopub.status.idle": "2022-07-23T17:57:58.130795Z",
     "shell.execute_reply": "2022-07-23T17:57:58.129983Z"
    },
    "papermill": {
     "duration": 0.042428,
     "end_time": "2022-07-23T17:57:58.132984",
     "exception": false,
     "start_time": "2022-07-23T17:57:58.090556",
     "status": "completed"
    },
    "tags": []
   },
   "outputs": [
    {
     "data": {
      "text/html": [
       "<div>\n",
       "<style scoped>\n",
       "    .dataframe tbody tr th:only-of-type {\n",
       "        vertical-align: middle;\n",
       "    }\n",
       "\n",
       "    .dataframe tbody tr th {\n",
       "        vertical-align: top;\n",
       "    }\n",
       "\n",
       "    .dataframe thead th {\n",
       "        text-align: right;\n",
       "    }\n",
       "</style>\n",
       "<table border=\"1\" class=\"dataframe\">\n",
       "  <thead>\n",
       "    <tr style=\"text-align: right;\">\n",
       "      <th></th>\n",
       "      <th>PassengerId</th>\n",
       "      <th>Transported</th>\n",
       "    </tr>\n",
       "  </thead>\n",
       "  <tbody>\n",
       "    <tr>\n",
       "      <th>0</th>\n",
       "      <td>0013_01</td>\n",
       "      <td>True</td>\n",
       "    </tr>\n",
       "    <tr>\n",
       "      <th>1</th>\n",
       "      <td>0018_01</td>\n",
       "      <td>False</td>\n",
       "    </tr>\n",
       "    <tr>\n",
       "      <th>2</th>\n",
       "      <td>0019_01</td>\n",
       "      <td>True</td>\n",
       "    </tr>\n",
       "    <tr>\n",
       "      <th>3</th>\n",
       "      <td>0021_01</td>\n",
       "      <td>True</td>\n",
       "    </tr>\n",
       "    <tr>\n",
       "      <th>4</th>\n",
       "      <td>0023_01</td>\n",
       "      <td>True</td>\n",
       "    </tr>\n",
       "  </tbody>\n",
       "</table>\n",
       "</div>"
      ],
      "text/plain": [
       "  PassengerId  Transported\n",
       "0     0013_01         True\n",
       "1     0018_01        False\n",
       "2     0019_01         True\n",
       "3     0021_01         True\n",
       "4     0023_01         True"
      ]
     },
     "execution_count": 29,
     "metadata": {},
     "output_type": "execute_result"
    }
   ],
   "source": [
    "sub = pd.read_csv('../input/spaceship-titanic/sample_submission.csv')\n",
    "sub['Transported'] = output\n",
    "sub.head()"
   ]
  },
  {
   "cell_type": "code",
   "execution_count": 30,
   "id": "94b776a1",
   "metadata": {
    "execution": {
     "iopub.execute_input": "2022-07-23T17:57:58.174567Z",
     "iopub.status.busy": "2022-07-23T17:57:58.174160Z",
     "iopub.status.idle": "2022-07-23T17:57:58.189011Z",
     "shell.execute_reply": "2022-07-23T17:57:58.188140Z"
    },
    "papermill": {
     "duration": 0.038176,
     "end_time": "2022-07-23T17:57:58.191378",
     "exception": false,
     "start_time": "2022-07-23T17:57:58.153202",
     "status": "completed"
    },
    "tags": []
   },
   "outputs": [],
   "source": [
    "sub.to_csv('submission.csv', index = False)"
   ]
  }
 ],
 "metadata": {
  "kernelspec": {
   "display_name": "Python 3",
   "language": "python",
   "name": "python3"
  },
  "language_info": {
   "codemirror_mode": {
    "name": "ipython",
    "version": 3
   },
   "file_extension": ".py",
   "mimetype": "text/x-python",
   "name": "python",
   "nbconvert_exporter": "python",
   "pygments_lexer": "ipython3",
   "version": "3.7.12"
  },
  "papermill": {
   "default_parameters": {},
   "duration": 25.240831,
   "end_time": "2022-07-23T17:57:59.134364",
   "environment_variables": {},
   "exception": null,
   "input_path": "__notebook__.ipynb",
   "output_path": "__notebook__.ipynb",
   "parameters": {},
   "start_time": "2022-07-23T17:57:33.893533",
   "version": "2.3.4"
  }
 },
 "nbformat": 4,
 "nbformat_minor": 5
}
